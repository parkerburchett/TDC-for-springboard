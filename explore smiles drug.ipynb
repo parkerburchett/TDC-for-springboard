{
  "cells": [
    {
      "cell_type": "code",
      "execution_count": 18,
      "metadata": {
        "colab": {
          "base_uri": "https://localhost:8080/"
        },
        "id": "miomgF_bdz2v",
        "outputId": "d6250d8b-e249-4c94-952f-6a3806e821ab"
      },
      "outputs": [
        {
          "name": "stdout",
          "output_type": "stream",
          "text": [
            "Requirement already satisfied: PyTDC in /usr/local/lib/python3.7/dist-packages (0.1.9)\n",
            "Requirement already satisfied: fuzzywuzzy in /usr/local/lib/python3.7/dist-packages (from PyTDC) (0.18.0)\n",
            "Requirement already satisfied: scikit-learn in /usr/local/lib/python3.7/dist-packages (from PyTDC) (0.22.2.post1)\n",
            "Requirement already satisfied: tqdm in /usr/local/lib/python3.7/dist-packages (from PyTDC) (4.41.1)\n",
            "Requirement already satisfied: seaborn in /usr/local/lib/python3.7/dist-packages (from PyTDC) (0.11.1)\n",
            "Requirement already satisfied: pandas in /usr/local/lib/python3.7/dist-packages (from PyTDC) (1.1.5)\n",
            "Requirement already satisfied: numpy in /usr/local/lib/python3.7/dist-packages (from PyTDC) (1.19.5)\n",
            "Requirement already satisfied: scipy>=0.17.0 in /usr/local/lib/python3.7/dist-packages (from scikit-learn->PyTDC) (1.4.1)\n",
            "Requirement already satisfied: joblib>=0.11 in /usr/local/lib/python3.7/dist-packages (from scikit-learn->PyTDC) (1.0.1)\n",
            "Requirement already satisfied: matplotlib>=2.2 in /usr/local/lib/python3.7/dist-packages (from seaborn->PyTDC) (3.2.2)\n",
            "Requirement already satisfied: pytz>=2017.2 in /usr/local/lib/python3.7/dist-packages (from pandas->PyTDC) (2018.9)\n",
            "Requirement already satisfied: python-dateutil>=2.7.3 in /usr/local/lib/python3.7/dist-packages (from pandas->PyTDC) (2.8.1)\n",
            "Requirement already satisfied: kiwisolver>=1.0.1 in /usr/local/lib/python3.7/dist-packages (from matplotlib>=2.2->seaborn->PyTDC) (1.3.1)\n",
            "Requirement already satisfied: pyparsing!=2.0.4,!=2.1.2,!=2.1.6,>=2.0.1 in /usr/local/lib/python3.7/dist-packages (from matplotlib>=2.2->seaborn->PyTDC) (2.4.7)\n",
            "Requirement already satisfied: cycler>=0.10 in /usr/local/lib/python3.7/dist-packages (from matplotlib>=2.2->seaborn->PyTDC) (0.10.0)\n",
            "Requirement already satisfied: six>=1.5 in /usr/local/lib/python3.7/dist-packages (from python-dateutil>=2.7.3->pandas->PyTDC) (1.15.0)\n",
            "Collecting git+https://github.com/EBjerrum/molvecgen\n",
            "  Cloning https://github.com/EBjerrum/molvecgen to /tmp/pip-req-build-wozrqsam\n",
            "  Running command git clone -q https://github.com/EBjerrum/molvecgen /tmp/pip-req-build-wozrqsam\n",
            "Requirement already satisfied (use --upgrade to upgrade): molvecgen==0.1 from git+https://github.com/EBjerrum/molvecgen in /usr/local/lib/python3.7/dist-packages\n",
            "Requirement already satisfied: numpy in /usr/local/lib/python3.7/dist-packages (from molvecgen==0.1) (1.19.5)\n",
            "Building wheels for collected packages: molvecgen\n",
            "  Building wheel for molvecgen (setup.py) ... \u001b[?25l\u001b[?25hdone\n",
            "  Created wheel for molvecgen: filename=molvecgen-0.1-cp37-none-any.whl size=11374 sha256=801cc6377f6c954e12ed2d024ff097b144198c38fe0e896dd01c1c20a51789c7\n",
            "  Stored in directory: /tmp/pip-ephem-wheel-cache-16r3g8ds/wheels/9f/95/5c/6b0c37da14d758257f28aba45933dd4500d0f54c0fd4f8cd1a\n",
            "Successfully built molvecgen\n",
            "Collecting conda\n",
            "\u001b[?25l  Downloading https://files.pythonhosted.org/packages/74/4e/c533c3136427be62c38cc0e038cabf167bb54489c2ced2f6df903c456861/conda-4.3.16.tar.gz (299kB)\n",
            "\u001b[K     |████████████████████████████████| 307kB 14.4MB/s \n",
            "\u001b[?25hCollecting pycosat>=0.6.1\n",
            "\u001b[?25l  Downloading https://files.pythonhosted.org/packages/c0/fd/e38d68774c0a345b0090d608a90f1fbf423970d812f7ec7aef9ac024e648/pycosat-0.6.3.zip (66kB)\n",
            "\u001b[K     |████████████████████████████████| 71kB 5.8MB/s \n",
            "\u001b[?25hRequirement already satisfied: requests>=2.12.4 in /usr/local/lib/python3.7/dist-packages (from conda) (2.23.0)\n",
            "Collecting ruamel.yaml>=0.11.14\n",
            "\u001b[?25l  Downloading https://files.pythonhosted.org/packages/29/4e/c3105bbbbc662f6a671a505f00ec771e93b5254f09fbb06002af9087071a/ruamel.yaml-0.17.4-py3-none-any.whl (101kB)\n",
            "\u001b[K     |████████████████████████████████| 102kB 6.0MB/s \n",
            "\u001b[?25hRequirement already satisfied: chardet<4,>=3.0.2 in /usr/local/lib/python3.7/dist-packages (from requests>=2.12.4->conda) (3.0.4)\n",
            "Requirement already satisfied: urllib3!=1.25.0,!=1.25.1,<1.26,>=1.21.1 in /usr/local/lib/python3.7/dist-packages (from requests>=2.12.4->conda) (1.24.3)\n",
            "Requirement already satisfied: certifi>=2017.4.17 in /usr/local/lib/python3.7/dist-packages (from requests>=2.12.4->conda) (2020.12.5)\n",
            "Requirement already satisfied: idna<3,>=2.5 in /usr/local/lib/python3.7/dist-packages (from requests>=2.12.4->conda) (2.10)\n",
            "Collecting ruamel.yaml.clib>=0.1.2; platform_python_implementation == \"CPython\" and python_version < \"3.10\"\n",
            "\u001b[?25l  Downloading https://files.pythonhosted.org/packages/5e/6e/f652c56bbb2c3d3fca252ffc7c0358597f57a1bbdf484dac683054950c63/ruamel.yaml.clib-0.2.2-cp37-cp37m-manylinux1_x86_64.whl (547kB)\n",
            "\u001b[K     |████████████████████████████████| 552kB 30.0MB/s \n",
            "\u001b[?25hBuilding wheels for collected packages: conda, pycosat\n",
            "  Building wheel for conda (setup.py) ... \u001b[?25l\u001b[?25hdone\n",
            "  Created wheel for conda: filename=conda-4.3.16-cp37-none-any.whl size=336938 sha256=2f2c6c8e75dc096b8ee4843acb75609aab2d7bf70b52d9ce37472d7133e1b2d9\n",
            "  Stored in directory: /root/.cache/pip/wheels/a3/50/79/302742d53e2231ec545cb3791abfdd24de234021ed8e0588a0\n",
            "  Building wheel for pycosat (setup.py) ... \u001b[?25l\u001b[?25hdone\n",
            "  Created wheel for pycosat: filename=pycosat-0.6.3-cp37-cp37m-linux_x86_64.whl size=143790 sha256=d169f952770bd48329937ac14e0e8432f9d5f3e47f59af83dc24ddc2f9552dc3\n",
            "  Stored in directory: /root/.cache/pip/wheels/c4/67/ff/5570304e45814eccef48a3c69c3af25d0456ed3a34eddbbe38\n",
            "Successfully built conda pycosat\n",
            "Installing collected packages: pycosat, ruamel.yaml.clib, ruamel.yaml, conda\n",
            "Successfully installed conda-4.3.16 pycosat-0.6.3 ruamel.yaml-0.17.4 ruamel.yaml.clib-0.2.2\n",
            "ERROR: The install method you used for conda--probably either `pip install conda`\n",
            "or `easy_install conda`--is not compatible with using conda as an application.\n",
            "If your intention is to install conda as a standalone application, currently\n",
            "supported install methods include the Anaconda installer and the miniconda\n",
            "installer.  You can download the miniconda installer from\n",
            "https://conda.io/miniconda.html.\n",
            "\n"
          ]
        }
      ],
      "source": [
        "!pip install PyTDC\r\n",
        "!python -m pip install git+https://github.com/EBjerrum/molvecgen\r\n",
        "# might nee\r\n"
      ]
    },
    {
      "cell_type": "code",
      "execution_count": 2,
      "metadata": {
        "colab": {
          "base_uri": "https://localhost:8080/"
        },
        "id": "6h3MyfBzH-pG",
        "outputId": "abe212be-5120-4e73-e3b7-56fcaa5791af"
      },
      "outputs": [
        {
          "name": "stderr",
          "output_type": "stream",
          "text": [
            "Found local copy...\n",
            "Loading...\n",
            "Done!\n"
          ]
        }
      ],
      "source": [
        "import pandas as pd\r\n",
        "from tdc.single_pred import ADME\r\n",
        "data = ADME(name = 'CYP2C9_Veith')  # this is a  binary classification from structure classificatoin problem\r\n",
        "split = data.get_split()"
      ]
    },
    {
      "cell_type": "markdown",
      "metadata": {
        "id": "c-2g9UnqfOVv"
      },
      "source": [
        "# Given a smiles string, predict a binary value. \r\n",
        "\r\n",
        "1. There are 5 version of this problem. \r\n",
        "2. You can experiment with a variety of different ways to approach this problem\r\n",
        "3. Write code to understand and break a smiles string in to the relevent consitute parts. \r\n",
        "4. Convert them to an image, then do image classificatoin on them. \r\n",
        "5. if permutes are valid. you can vastly increase your sample size. Feed them into a RNN.\r\n",
        "\r\n",
        "\r\n",
        "source: https://tdcommons.ai/single_pred_tasks/adme/#cyp3a4-substrate-carbon-mangels-et-al\r\n",
        "\r\n",
        "https://github.com/XinhaoLi74/SmilesPE\r\n",
        "Libary to tokenize the smile strings. \r\n",
        "You could merge on https://towardsdatascience.com/find-and-play-with-molecule-datasets-ef1116e4524f\r\n",
        "\r\n",
        "\r\n",
        "Dataset Description: The CYP P450 genes are involved in the formation and breakdown (metabolism) of various molecules and chemicals within cells. Specifically, the CYP P450 2C9 plays a major role in the oxidation of both xenobiotic and endogenous compounds.\r\n",
        "\r\n",
        "Task Description: Binary Classification. Given a drug SMILES string, predict CYP2C9 inhibition.\r\n",
        "\r\n",
        "Dataset Statistics: 12,092 drugs."
      ]
    },
    {
      "cell_type": "markdown",
      "metadata": {
        "id": "nwBFaEQMm7Q9"
      },
      "source": [
        "# Notes on conversion\n",
        "\n",
        "1. Sprase 1 hot tokenized vector. \n",
        "\n",
        "2. Other features from the other datasets. Eg take the the Smile String and generate a categoical (some fancy molecule things here) as a feature\n",
        "\n",
        "\n",
        "3. You can put this into a deep learning model. Or You could feed it into a RNN.\n",
        "\n",
        "4. If you are successful you have created something of scientific value. "
      ]
    },
    {
      "cell_type": "code",
      "execution_count": 3,
      "metadata": {
        "colab": {
          "base_uri": "https://localhost:8080/"
        },
        "id": "lBOISbZ7d6tN",
        "outputId": "c990d06c-1253-4331-900d-976d0e9f1cd0"
      },
      "outputs": [
        {
          "name": "stdout",
          "output_type": "stream",
          "text": [
            "(8465, 3)\n",
            "     Drug_ID                                               Drug  Y\n",
            "0   644851.0                   Clc1ccccc1-c1nc(-c2ccccc2)n[nH]1  1\n",
            "1   644890.0    COc1ccccc1C(c1nnnn1C(C)(C)C)N1CCN(Cc2ccncc2)CC1  1\n",
            "2   645164.0  CCC(c1nnnn1CC1CCCO1)N(CCN1CCOCC1)Cc1cc2cc(C)cc...  0\n",
            "3  6602688.0  Br.N=c1n(CCN2CCOCC2)c2ccccc2n1CC(=O)c1ccc(Cl)c...  1\n",
            "4  5768708.0  COc1ccc(/C(O)=C2/C(=O)C(=O)N(CCCC(=O)O)C2c2ccc...  0\n",
            "0    5652\n",
            "1    2813\n",
            "Name: Y, dtype: int64\n"
          ]
        }
      ],
      "source": [
        "train = split['train']\n",
        "print(train.shape)\n",
        "print(train.head())\n",
        "print(train.Y.value_counts())\n"
      ]
    },
    {
      "cell_type": "markdown",
      "metadata": {
        "id": "i-o0e39uvi2A"
      },
      "source": [
        "## Hist of drug length"
      ]
    },
    {
      "cell_type": "code",
      "execution_count": null,
      "metadata": {
        "colab": {
          "base_uri": "https://localhost:8080/",
          "height": 446
        },
        "id": "Pw4SYTqihiUh",
        "outputId": "fdf4abed-5f2a-48c9-fe7c-4dc67f9ca0a6"
      },
      "outputs": [
        {
          "name": "stdout",
          "output_type": "stream",
          "text": [
            "count    8465.000000\n",
            "mean       46.093089\n",
            "std        19.946480\n",
            "min         2.000000\n",
            "25%        35.000000\n",
            "50%        43.000000\n",
            "75%        52.000000\n",
            "max       311.000000\n",
            "dtype: float64\n"
          ]
        },
        {
          "data": {
            "text/plain": [
              "<matplotlib.axes._subplots.AxesSubplot at 0x7f7787123a90>"
            ]
          },
          "execution_count": 7,
          "metadata": {
            "tags": []
          },
          "output_type": "execute_result"
        },
        {
          "data": {
            "image/png": "[encoded data removed]",
            "text/plain": [
              "<Figure size 432x288 with 1 Axes>"
            ]
          },
          "metadata": {
            "needs_background": "light",
            "tags": []
          },
          "output_type": "display_data"
        }
      ],
      "source": [
        "drugs =train['Drug']\n",
        "\n",
        "smile_len = pd.Series([len(i) for i in list(drugs)])\n",
        "print(smile_len.describe())\n",
        "smile_len.hist()"
      ]
    },
    {
      "cell_type": "markdown",
      "metadata": {
        "id": "8k4voyJeu4Lp"
      },
      "source": [
        "### Image recognition\r\n",
        "1. Comvert drugs to images using one of the various vectorization found here.\r\n",
        "  https://github.com/EBjerrum/molvecgen/blob/master/Examples.ipynb\r\n",
        "2. There are 4 or 5 SMILE to image that seem promising. \r\n",
        "3. Encode using 1 hot encoding of branches based on https://github.com/XinhaoLi74/SmilesPE.\r\n",
        "  There is atom level encoding, and K level encoding. Can very depending on what is valueablue. \r\n",
        "4. RNN with a sliding window of the molecule where each lets say 5 symbols is mapped on to a 1 hot or a categorical. \r\n",
        "  You would first need a way to ensure there is a cardinal ordering, (defined in some way that make sense, unsure what that would be) so that each drug is mapped into that format. Then that is passed as a slinding window into a RNN. \r\n",
        "5. You might find it makes sense to break up the molecules into cateogires and then repreat on of the above for each cateogory. \r\n",
        "6. What is the current accuracy rate for other people's models?\r\n",
        "7. Use networkx and from tdc.chem_utils import MolConvert to convert each drug into a graph. \r\n",
        "  https://medium.com/syncedreview/introduction-to-deep-learning-for-graphs-and-where-it-may-be-heading-75d48f42a322\r\n",
        "  On doing DL on graph objecst. ( most promising)\r\n",
        "\r\n",
        "\r\n",
        "  https://www.cheminformania.com/learn-how-to-teach-your-computer-to-see-chemistry-free-chemception-models-with-rdkit-and-keras/\r\n",
        "  \r\n",
        "\r\n",
        "\r\n"
      ]
    },
    {
      "cell_type": "code",
      "execution_count": 5,
      "metadata": {
        "colab": {
          "base_uri": "https://localhost:8080/"
        },
        "id": "cUpZq2pHu3gB",
        "outputId": "eb438b2a-6e2c-4828-cfec-28a3240b7ae5"
      },
      "outputs": [
        {
          "name": "stdout",
          "output_type": "stream",
          "text": [
            "Collecting SmilesPE\n",
            "  Downloading SmilesPE-0.0.3-py3-none-any.whl (15 kB)\n",
            "Collecting fastprogress\n",
            "  Downloading fastprogress-1.0.0-py3-none-any.whl (12 kB)\n",
            "Collecting gensim\n",
            "  Downloading gensim-4.0.1-cp38-cp38-win_amd64.whl (23.9 MB)\n",
            "Requirement already satisfied: numpy in c:\\users\\parke\\anaconda3\\envs\\springboardroot\\lib\\site-packages (from fastprogress->SmilesPE) (1.20.2)\n",
            "Requirement already satisfied: scipy>=0.18.1 in c:\\users\\parke\\anaconda3\\envs\\springboardroot\\lib\\site-packages (from gensim->SmilesPE) (1.6.2)\n",
            "Collecting smart-open>=1.8.1\n",
            "  Downloading smart_open-5.0.0-py3-none-any.whl (56 kB)\n",
            "Collecting Cython==0.29.21\n",
            "  Downloading Cython-0.29.21-cp38-cp38-win_amd64.whl (1.7 MB)\n",
            "Installing collected packages: smart-open, Cython, gensim, fastprogress, SmilesPE\n",
            "Successfully installed Cython-0.29.21 SmilesPE-0.0.3 fastprogress-1.0.0 gensim-4.0.1 smart-open-5.0.0\n"
          ]
        },
        {
          "name": "stderr",
          "output_type": "stream",
          "text": [
            "  WARNING: The scripts cygdb.exe, cython.exe and cythonize.exe are installed in 'C:\\Users\\parke\\anaconda3\\envs\\SpringBoardRoot\\Scripts' which is not on PATH.\n",
            "  Consider adding this directory to PATH or, if you prefer to suppress this warning, use --no-warn-script-location.\n"
          ]
        }
      ],
      "source": [
        "#!pip install SmilesPE I already added this into springboard root"
      ]
    },
    {
      "cell_type": "code",
      "execution_count": 8,
      "metadata": {
        "colab": {
          "base_uri": "https://localhost:8080/"
        },
        "id": "lvS-l5xnxiVn",
        "outputId": "3df4e5df-7e75-4557-aada-662869b9a4dd"
      },
      "outputs": [
        {
          "name": "stdout",
          "output_type": "stream",
          "text": [
            "['CC[N+](', 'C[N+](C', '[N+](C)', '(C)(', 'C)(C', ')(C)', '(C)C', 'C)Cc', ')Cc1', 'Cc1c', 'c1cc', '1ccc', 'cccc', 'cccc', 'ccc1', 'cc1Br']\n"
          ]
        }
      ],
      "source": [
        "from SmilesPE.pretokenizer import kmer_tokenizer\n",
        "\n",
        "smi = 'CC[N+](C)(C)Cc1ccccc1Br'\n",
        "toks = kmer_tokenizer(smi, ngram=4) # might be useful for RNNs if is ordered. else can permute valid to get more data.\n",
        "print(toks)"
      ]
    },
    {
      "cell_type": "code",
      "execution_count": 10,
      "metadata": {
        "colab": {
          "base_uri": "https://localhost:8080/",
          "height": 595
        },
        "id": "NgR8Epu9yunG",
        "outputId": "e9230782-4830-48ee-af7c-3ef3943cccef"
      },
      "outputs": [],
      "source": [
        "\r\n",
        "from tdc.chem_utils import MolConvert\r\n",
        "converter = MolConvert(src = 'SMILES', dst = 'Graph2D')\r\n",
        "mol = converter(['Clc1ccccc1C2C(=C(/N/C(=C2/C(=O)OCC)COCCN)C)\\C(=O)OC',\r\n",
        "       'CCCOc1cc2ncnc(Nc3ccc4ncsc4c3)c2cc1S(=O)(=O)C(C)(C)C'])"
      ]
    },
    {
      "cell_type": "code",
      "execution_count": 26,
      "metadata": {},
      "outputs": [
        {
          "data": {
            "text/plain": "array([[0, 1, 0, 0, 0, 0, 0, 0, 0, 0, 0, 0, 0, 0, 0, 0, 0, 0, 0, 0, 0, 0,\n        0, 0, 0, 0, 0, 0],\n       [1, 0, 1, 0, 0, 0, 0, 0, 0, 0, 0, 0, 0, 0, 0, 0, 0, 0, 0, 0, 0, 0,\n        0, 0, 0, 0, 0, 0],\n       [0, 1, 0, 1, 0, 0, 0, 0, 0, 0, 0, 0, 0, 0, 0, 0, 0, 0, 0, 0, 0, 0,\n        0, 0, 0, 0, 0, 0],\n       [0, 0, 1, 0, 2, 1, 0, 0, 0, 0, 0, 0, 0, 0, 0, 0, 0, 0, 0, 0, 0, 0,\n        0, 0, 0, 0, 0, 0],\n       [0, 0, 0, 2, 0, 0, 0, 0, 0, 0, 0, 0, 0, 0, 0, 0, 0, 0, 0, 0, 0, 0,\n        0, 0, 0, 0, 0, 0],\n       [0, 0, 0, 1, 0, 0, 2, 0, 0, 0, 0, 0, 0, 0, 0, 0, 0, 0, 0, 0, 1, 0,\n        0, 0, 0, 0, 0, 0],\n       [0, 0, 0, 0, 0, 2, 0, 1, 0, 0, 0, 0, 1, 0, 0, 0, 0, 0, 0, 0, 0, 0,\n        0, 0, 0, 0, 0, 0],\n       [0, 0, 0, 0, 0, 0, 1, 0, 1, 0, 0, 0, 0, 0, 0, 0, 0, 0, 0, 0, 0, 0,\n        0, 0, 0, 0, 0, 0],\n       [0, 0, 0, 0, 0, 0, 0, 1, 0, 1, 0, 0, 0, 0, 0, 0, 0, 0, 0, 0, 0, 0,\n        0, 0, 0, 0, 0, 0],\n       [0, 0, 0, 0, 0, 0, 0, 0, 1, 0, 1, 0, 0, 0, 0, 0, 0, 0, 0, 0, 0, 0,\n        0, 0, 0, 0, 0, 0],\n       [0, 0, 0, 0, 0, 0, 0, 0, 0, 1, 0, 1, 0, 0, 0, 0, 0, 0, 0, 0, 0, 0,\n        0, 0, 0, 0, 0, 0],\n       [0, 0, 0, 0, 0, 0, 0, 0, 0, 0, 1, 0, 0, 0, 0, 0, 0, 0, 0, 0, 0, 0,\n        0, 0, 0, 0, 0, 0],\n       [0, 0, 0, 0, 0, 0, 1, 0, 0, 0, 0, 0, 0, 1, 0, 0, 0, 0, 0, 0, 0, 0,\n        0, 0, 0, 0, 0, 0],\n       [0, 0, 0, 0, 0, 0, 0, 0, 0, 0, 0, 0, 1, 0, 1, 2, 0, 0, 0, 0, 0, 0,\n        0, 0, 0, 0, 0, 0],\n       [0, 0, 0, 0, 0, 0, 0, 0, 0, 0, 0, 0, 0, 1, 0, 0, 0, 0, 0, 0, 0, 0,\n        0, 0, 0, 0, 0, 0],\n       [0, 0, 0, 0, 0, 0, 0, 0, 0, 0, 0, 0, 0, 2, 0, 0, 1, 0, 0, 0, 1, 0,\n        0, 0, 0, 0, 0, 0],\n       [0, 0, 0, 0, 0, 0, 0, 0, 0, 0, 0, 0, 0, 0, 0, 1, 0, 2, 1, 0, 0, 0,\n        0, 0, 0, 0, 0, 0],\n       [0, 0, 0, 0, 0, 0, 0, 0, 0, 0, 0, 0, 0, 0, 0, 0, 2, 0, 0, 0, 0, 0,\n        0, 0, 0, 0, 0, 0],\n       [0, 0, 0, 0, 0, 0, 0, 0, 0, 0, 0, 0, 0, 0, 0, 0, 1, 0, 0, 1, 0, 0,\n        0, 0, 0, 0, 0, 0],\n       [0, 0, 0, 0, 0, 0, 0, 0, 0, 0, 0, 0, 0, 0, 0, 0, 0, 0, 1, 0, 0, 0,\n        0, 0, 0, 0, 0, 0],\n       [0, 0, 0, 0, 0, 1, 0, 0, 0, 0, 0, 0, 0, 0, 0, 1, 0, 0, 0, 0, 0, 1,\n        0, 0, 0, 0, 0, 0],\n       [0, 0, 0, 0, 0, 0, 0, 0, 0, 0, 0, 0, 0, 0, 0, 0, 0, 0, 0, 0, 1, 0,\n        2, 0, 0, 0, 1, 0],\n       [0, 0, 0, 0, 0, 0, 0, 0, 0, 0, 0, 0, 0, 0, 0, 0, 0, 0, 0, 0, 0, 2,\n        0, 1, 0, 0, 0, 0],\n       [0, 0, 0, 0, 0, 0, 0, 0, 0, 0, 0, 0, 0, 0, 0, 0, 0, 0, 0, 0, 0, 0,\n        1, 0, 2, 0, 0, 0],\n       [0, 0, 0, 0, 0, 0, 0, 0, 0, 0, 0, 0, 0, 0, 0, 0, 0, 0, 0, 0, 0, 0,\n        0, 2, 0, 1, 0, 0],\n       [0, 0, 0, 0, 0, 0, 0, 0, 0, 0, 0, 0, 0, 0, 0, 0, 0, 0, 0, 0, 0, 0,\n        0, 0, 1, 0, 2, 0],\n       [0, 0, 0, 0, 0, 0, 0, 0, 0, 0, 0, 0, 0, 0, 0, 0, 0, 0, 0, 0, 0, 1,\n        0, 0, 0, 2, 0, 1],\n       [0, 0, 0, 0, 0, 0, 0, 0, 0, 0, 0, 0, 0, 0, 0, 0, 0, 0, 0, 0, 0, 0,\n        0, 0, 0, 0, 1, 0]])"
          },
          "execution_count": 26,
          "metadata": {},
          "output_type": "execute_result"
        }
      ],
      "source": [
        "dict_rep = mol[0][0]\r\n",
        "graph_rep = mol[0][1]\r\n",
        "graph_rep   \r\n"
      ]
    },
    {
      "cell_type": "code",
      "execution_count": 30,
      "metadata": {},
      "outputs": [],
      "source": [
        "import numpy as np\r\n",
        "from PIL import Image\r\n",
        "\r\n",
        "img = Image.fromarray(graph_rep, mode='1')\r\n",
        "img.show()"
      ]
    }
  ],
  "metadata": {
    "colab": {
      "collapsed_sections": [],
      "name": "Explore Smiles drug strings problems PyTDC.ipynb",
      "provenance": []
    },
    "kernelspec": {
      "display_name": "Python 3.8.8 64-bit ('SpringBoardRoot': conda)",
      "name": "python388jvsc74a57bd034254dbed0a11299c26a60998b10651945ddc6175a352e28bb4ea7f4f8edb40d"
    },
    "language_info": {
      "codemirror_mode": {
        "name": "ipython",
        "version": 3
      },
      "file_extension": ".py",
      "mimetype": "text/x-python",
      "name": "python",
      "nbconvert_exporter": "python",
      "pygments_lexer": "ipython3",
      "version": "3.8.8"
    }
  },
  "nbformat": 4,
  "nbformat_minor": 0
}