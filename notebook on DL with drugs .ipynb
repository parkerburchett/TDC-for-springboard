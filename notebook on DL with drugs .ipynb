{
  "cells": [
    {
      "cell_type": "code",
      "execution_count": 1,
      "metadata": {
        "colab": {
          "base_uri": "https://localhost:8080/",
          "height": 34
        },
        "id": "c20nBaAf1yYV",
        "outputId": "06c22e23-c8ab-4698-e22b-ca709f5c3015"
      },
      "outputs": [
        {
          "name": "stdout",
          "output_type": "stream",
          "text": [
            "Python 3.8.8\n"
          ]
        }
      ],
      "source": [
        "!python --version"
      ]
    },
    {
      "cell_type": "code",
      "execution_count": null,
      "metadata": {
        "id": "iyKF-r93mUku"
      },
      "outputs": [],
      "source": []
    },
    {
      "cell_type": "markdown",
      "metadata": {
        "id": "jCnwE9tRjoFf"
      },
      "source": [
        "Install rdkit"
      ]
    },
    {
      "cell_type": "code",
      "execution_count": 2,
      "metadata": {
        "colab": {
          "base_uri": "https://localhost:8080/",
          "height": 3743
        },
        "id": "PInm4lFu2Uyq",
        "outputId": "f9d70550-d06a-434f-d29e-ba3b02ee07c7"
      },
      "outputs": [
        {
          "name": "stderr",
          "output_type": "stream",
          "text": [
            "'wget' is not recognized as an internal or external command,\n",
            "operable program or batch file.\n",
            "'chmod' is not recognized as an internal or external command,\n",
            "operable program or batch file.\n"
          ]
        },
        {
          "name": "stdout",
          "output_type": "stream",
          "text": [
            "^C\n",
            "The system cannot accept the time entered.\n",
            "Enter the new time: \n"
          ]
        }
      ],
      "source": [
        "!wget -c https://repo.continuum.io/miniconda/Miniconda3-latest-Linux-x86_64.sh\n",
        "!chmod +x Miniconda3-latest-Linux-x86_64.sh\n",
        "!time bash ./Miniconda3-latest-Linux-x86_64.sh -b -f -p /usr/local\n",
        "!time conda install -q -y -c conda-forge rdkit\n"
      ]
    },
    {
      "cell_type": "markdown",
      "metadata": {
        "id": "mK9s1rCdjuMM"
      },
      "source": [
        "Append RDKit path and import packages"
      ]
    },
    {
      "cell_type": "code",
      "execution_count": null,
      "metadata": {
        "id": "AFT7w0WD2bj_"
      },
      "outputs": [],
      "source": [
        "%matplotlib inline\n",
        "import matplotlib.pyplot as plt\n",
        "import sys\n",
        "import os\n",
        "sys.path.append('/usr/local/lib/python3.7/site-packages/')"
      ]
    },
    {
      "cell_type": "code",
      "execution_count": null,
      "metadata": {
        "id": "L_QLM4zNOp5A"
      },
      "outputs": [],
      "source": [
        "import numpy as np\n",
        "import pandas as pd\n",
        "\n",
        "from rdkit import Chem\n",
        "from rdkit.Chem import DataStructs\n",
        "from rdkit.Chem import AllChem\n",
        "from rdkit.Chem import RDConfig\n",
        "from rdkit import rdBase\n",
        "from rdkit.Chem.Draw import IPythonConsole"
      ]
    },
    {
      "cell_type": "code",
      "execution_count": null,
      "metadata": {
        "colab": {
          "base_uri": "https://localhost:8080/",
          "height": 34
        },
        "id": "cP4ELmt67TwY",
        "outputId": "a26d3800-d566-414a-99e4-5d05b9a06c3d"
      },
      "outputs": [
        {
          "data": {
            "text/plain": [
              "'2019.03.2'"
            ]
          },
          "execution_count": 5,
          "metadata": {
            "tags": []
          },
          "output_type": "execute_result"
        }
      ],
      "source": [
        "rdBase.rdkitVersion"
      ]
    },
    {
      "cell_type": "markdown",
      "metadata": {
        "id": "MWzwrp1nj6c1"
      },
      "source": [
        "LOAD data"
      ]
    },
    {
      "cell_type": "code",
      "execution_count": null,
      "metadata": {
        "colab": {
          "base_uri": "https://localhost:8080/",
          "height": 34
        },
        "id": "uJ66JY_Y6TJg",
        "outputId": "7d966fbf-ad65-4fc8-906f-63287461569d"
      },
      "outputs": [
        {
          "name": "stdout",
          "output_type": "stream",
          "text": [
            "1025 257\n"
          ]
        }
      ],
      "source": [
        "trainsdf = Chem.SDMolSupplier(os.path.join( RDConfig.RDDocsDir, 'Book/data/solubility.train.sdf'))\n",
        "testsdf = Chem.SDMolSupplier(os.path.join( RDConfig.RDDocsDir, 'Book/data/solubility.test.sdf'))\n",
        "train_mols = [mol for mol in trainsdf if mol != None]\n",
        "test_mols = [mol for mol in testsdf if mol != None]\n",
        "print(len(train_mols), len(test_mols))\n",
        "\n",
        "sol_class = {\"(A) low\":0, \"(B) medium\":1, \"(C) high\": 2}"
      ]
    },
    {
      "cell_type": "code",
      "execution_count": null,
      "metadata": {
        "id": "c7LO9wFe6_l9"
      },
      "outputs": [],
      "source": [
        "# 2048 bit vector\n",
        "def mol2arr(mol):\n",
        "  arr = np.zeros((1,))\n",
        "  fp = AllChem.GetMorganFingerprintAsBitVect(mol, 2)\n",
        "  DataStructs.ConvertToNumpyArray(fp, arr)\n",
        "  return arr"
      ]
    },
    {
      "cell_type": "markdown",
      "metadata": {
        "id": "EbJSxd4tkAtN"
      },
      "source": [
        "import tensorflow and use keras"
      ]
    },
    {
      "cell_type": "code",
      "execution_count": null,
      "metadata": {
        "colab": {
          "base_uri": "https://localhost:8080/",
          "height": 34
        },
        "id": "4eHTvTNDUJcY",
        "outputId": "b50d5d68-839b-4af0-991b-455ed82299a2"
      },
      "outputs": [
        {
          "name": "stderr",
          "output_type": "stream",
          "text": [
            "Using TensorFlow backend.\n"
          ]
        }
      ],
      "source": [
        "import tensorflow as tf\n",
        "import tensorflow.keras as keras\n",
        "from keras import Model\n",
        "from keras.layers import Activation, Dense, Dropout, Input\n",
        "from keras.utils import np_utils\n",
        "\n",
        "\n",
        "trainX = np.array([mol2arr(mol) for mol in train_mols])\n",
        "trainY = [sol_class[mol.GetProp(\"SOL_classification\")] for mol in train_mols]\n",
        "trainY = np_utils.to_categorical(trainY)\n",
        "\n",
        "testX = np.array([mol2arr(mol) for mol in test_mols])\n",
        "testY = [sol_class[mol.GetProp(\"SOL_classification\")] for mol in test_mols]\n",
        "testY = np_utils.to_categorical(testY)\n"
      ]
    },
    {
      "cell_type": "code",
      "execution_count": null,
      "metadata": {
        "colab": {
          "base_uri": "https://localhost:8080/",
          "height": 561
        },
        "id": "0O692Z2mUqC7",
        "outputId": "0941ea88-26c9-4c9b-b0b1-b5d68ba3bea5"
      },
      "outputs": [
        {
          "name": "stdout",
          "output_type": "stream",
          "text": [
            "_________________________________________________________________\n",
            "Layer (type)                 Output Shape              Param #   \n",
            "=================================================================\n",
            "input (InputLayer)           (None, 2048)              0         \n",
            "_________________________________________________________________\n",
            "Layer1 (Dense)               (None, 100)               204900    \n",
            "_________________________________________________________________\n",
            "Layer2 (Dense)               (None, 20)                2020      \n",
            "_________________________________________________________________\n",
            "Layer3 (Dense)               (None, 2)                 42        \n",
            "_________________________________________________________________\n",
            "output (Dense)               (None, 3)                 9         \n",
            "=================================================================\n",
            "Total params: 206,971\n",
            "Trainable params: 206,971\n",
            "Non-trainable params: 0\n",
            "_________________________________________________________________\n",
            "_________________________________________________________________\n",
            "Layer (type)                 Output Shape              Param #   \n",
            "=================================================================\n",
            "input (InputLayer)           (None, 2048)              0         \n",
            "_________________________________________________________________\n",
            "Layer1 (Dense)               (None, 100)               204900    \n",
            "_________________________________________________________________\n",
            "Layer2 (Dense)               (None, 20)                2020      \n",
            "_________________________________________________________________\n",
            "Layer3 (Dense)               (None, 2)                 42        \n",
            "=================================================================\n",
            "Total params: 206,962\n",
            "Trainable params: 206,962\n",
            "Non-trainable params: 0\n",
            "_________________________________________________________________\n"
          ]
        }
      ],
      "source": [
        "inputs = Input(shape=(2048,), name='input')\n",
        "x = Dense(100, activation='relu', name='Layer1')(inputs)\n",
        "x = Dense(20, activation='relu', name='Layer2')(x)\n",
        "x = Dense(2, activation='relu', name='Layer3')(x)\n",
        "predictions = Dense(3, activation='softmax', name='output')(x)\n",
        "\n",
        "model = Model(inputs=inputs, outputs = predictions)\n",
        "model.compile(optimizer=tf.train.RMSPropOptimizer(0.001),\n",
        "                           loss='categorical_crossentropy',\n",
        "                           metrics=['accuracy'])\n",
        "model.summary()\n",
        "\n",
        "\n",
        "model_int = Model(inputs=inputs, outputs=model.get_layer(name='Layer3').output)\n",
        "model_int.summary()"
      ]
    },
    {
      "cell_type": "code",
      "execution_count": null,
      "metadata": {
        "colab": {
          "base_uri": "https://localhost:8080/",
          "height": 1717
        },
        "id": "M-OtvArzWXGC",
        "outputId": "3e23b752-3858-4448-da5f-584b9a449ee8"
      },
      "outputs": [
        {
          "name": "stdout",
          "output_type": "stream",
          "text": [
            "Epoch 1/50\n",
            "1025/1025 [==============================] - 0s 255us/step - loss: 1.0976 - acc: 0.3376\n",
            "Epoch 2/50\n",
            "1025/1025 [==============================] - 0s 96us/step - loss: 1.0933 - acc: 0.4088\n",
            "Epoch 3/50\n",
            "1025/1025 [==============================] - 0s 101us/step - loss: 1.0672 - acc: 0.4400\n",
            "Epoch 4/50\n",
            "1025/1025 [==============================] - 0s 96us/step - loss: 0.9741 - acc: 0.4351\n",
            "Epoch 5/50\n",
            "1025/1025 [==============================] - 0s 92us/step - loss: 0.8645 - acc: 0.5298\n",
            "Epoch 6/50\n",
            "1025/1025 [==============================] - 0s 96us/step - loss: 0.7702 - acc: 0.6156\n",
            "Epoch 7/50\n",
            "1025/1025 [==============================] - 0s 98us/step - loss: 0.6763 - acc: 0.6712\n",
            "Epoch 8/50\n",
            "1025/1025 [==============================] - 0s 97us/step - loss: 0.5821 - acc: 0.7385\n",
            "Epoch 9/50\n",
            "1025/1025 [==============================] - 0s 94us/step - loss: 0.4873 - acc: 0.8137\n",
            "Epoch 10/50\n",
            "1025/1025 [==============================] - 0s 94us/step - loss: 0.3978 - acc: 0.8420\n",
            "Epoch 11/50\n",
            "1025/1025 [==============================] - 0s 97us/step - loss: 0.3277 - acc: 0.8976\n",
            "Epoch 12/50\n",
            "1025/1025 [==============================] - 0s 95us/step - loss: 0.2625 - acc: 0.9366\n",
            "Epoch 13/50\n",
            "1025/1025 [==============================] - 0s 102us/step - loss: 0.2178 - acc: 0.9434\n",
            "Epoch 14/50\n",
            "1025/1025 [==============================] - 0s 92us/step - loss: 0.1687 - acc: 0.9561\n",
            "Epoch 15/50\n",
            "1025/1025 [==============================] - 0s 95us/step - loss: 0.1346 - acc: 0.9639\n",
            "Epoch 16/50\n",
            "1025/1025 [==============================] - 0s 90us/step - loss: 0.1061 - acc: 0.9776\n",
            "Epoch 17/50\n",
            "1025/1025 [==============================] - 0s 90us/step - loss: 0.0868 - acc: 0.9795\n",
            "Epoch 18/50\n",
            "1025/1025 [==============================] - 0s 91us/step - loss: 0.0724 - acc: 0.9805\n",
            "Epoch 19/50\n",
            "1025/1025 [==============================] - 0s 89us/step - loss: 0.0604 - acc: 0.9824\n",
            "Epoch 20/50\n",
            "1025/1025 [==============================] - 0s 87us/step - loss: 0.0548 - acc: 0.9844\n",
            "Epoch 21/50\n",
            "1025/1025 [==============================] - 0s 90us/step - loss: 0.0477 - acc: 0.9863\n",
            "Epoch 22/50\n",
            "1025/1025 [==============================] - 0s 87us/step - loss: 0.0457 - acc: 0.9854\n",
            "Epoch 23/50\n",
            "1025/1025 [==============================] - 0s 87us/step - loss: 0.0418 - acc: 0.9854\n",
            "Epoch 24/50\n",
            "1025/1025 [==============================] - 0s 99us/step - loss: 0.0403 - acc: 0.9883\n",
            "Epoch 25/50\n",
            "1025/1025 [==============================] - 0s 89us/step - loss: 0.0307 - acc: 0.9883\n",
            "Epoch 26/50\n",
            "1025/1025 [==============================] - 0s 91us/step - loss: 0.0361 - acc: 0.9863\n",
            "Epoch 27/50\n",
            "1025/1025 [==============================] - 0s 90us/step - loss: 0.0305 - acc: 0.9873\n",
            "Epoch 28/50\n",
            "1025/1025 [==============================] - 0s 89us/step - loss: 0.0303 - acc: 0.9902\n",
            "Epoch 29/50\n",
            "1025/1025 [==============================] - 0s 89us/step - loss: 0.0293 - acc: 0.9893\n",
            "Epoch 30/50\n",
            "1025/1025 [==============================] - 0s 91us/step - loss: 0.0311 - acc: 0.9893\n",
            "Epoch 31/50\n",
            "1025/1025 [==============================] - 0s 88us/step - loss: 0.0251 - acc: 0.9893\n",
            "Epoch 32/50\n",
            "1025/1025 [==============================] - 0s 87us/step - loss: 0.0272 - acc: 0.9902\n",
            "Epoch 33/50\n",
            "1025/1025 [==============================] - 0s 89us/step - loss: 0.0260 - acc: 0.9873\n",
            "Epoch 34/50\n",
            "1025/1025 [==============================] - 0s 96us/step - loss: 0.0257 - acc: 0.9883\n",
            "Epoch 35/50\n",
            "1025/1025 [==============================] - 0s 97us/step - loss: 0.0228 - acc: 0.9902\n",
            "Epoch 36/50\n",
            "1025/1025 [==============================] - 0s 93us/step - loss: 0.0269 - acc: 0.9863\n",
            "Epoch 37/50\n",
            "1025/1025 [==============================] - 0s 93us/step - loss: 0.0229 - acc: 0.9873\n",
            "Epoch 38/50\n",
            "1025/1025 [==============================] - 0s 90us/step - loss: 0.0235 - acc: 0.9893\n",
            "Epoch 39/50\n",
            "1025/1025 [==============================] - 0s 89us/step - loss: 0.0219 - acc: 0.9873\n",
            "Epoch 40/50\n",
            "1025/1025 [==============================] - 0s 89us/step - loss: 0.0241 - acc: 0.9912\n",
            "Epoch 41/50\n",
            "1025/1025 [==============================] - 0s 89us/step - loss: 0.0227 - acc: 0.9883\n",
            "Epoch 42/50\n",
            "1025/1025 [==============================] - 0s 88us/step - loss: 0.0241 - acc: 0.9883\n",
            "Epoch 43/50\n",
            "1025/1025 [==============================] - 0s 90us/step - loss: 0.0257 - acc: 0.9893\n",
            "Epoch 44/50\n",
            "1025/1025 [==============================] - 0s 88us/step - loss: 0.0241 - acc: 0.9883\n",
            "Epoch 45/50\n",
            "1025/1025 [==============================] - 0s 101us/step - loss: 0.0241 - acc: 0.9893\n",
            "Epoch 46/50\n",
            "1025/1025 [==============================] - 0s 91us/step - loss: 0.0223 - acc: 0.9893\n",
            "Epoch 47/50\n",
            "1025/1025 [==============================] - 0s 91us/step - loss: 0.0213 - acc: 0.9912\n",
            "Epoch 48/50\n",
            "1025/1025 [==============================] - 0s 92us/step - loss: 0.0208 - acc: 0.9883\n",
            "Epoch 49/50\n",
            "1025/1025 [==============================] - 0s 90us/step - loss: 0.0234 - acc: 0.9873\n",
            "Epoch 50/50\n",
            "1025/1025 [==============================] - 0s 90us/step - loss: 0.0229 - acc: 0.9873\n"
          ]
        }
      ],
      "source": [
        "epochs = 50\n",
        "hist = model.fit(np.array(trainX), trainY, batch_size=32, epochs=epochs)"
      ]
    },
    {
      "cell_type": "markdown",
      "metadata": {
        "id": "mwkwhWydkHob"
      },
      "source": [
        "maybe 50 epochs is too mutch"
      ]
    },
    {
      "cell_type": "code",
      "execution_count": null,
      "metadata": {
        "colab": {
          "base_uri": "https://localhost:8080/",
          "height": 286
        },
        "id": "alpYfIqaX1s2",
        "outputId": "fb1115f4-772d-447b-f433-4c89d8ed5ef8"
      },
      "outputs": [
        {
          "data": {
            "text/plain": [
              "[<matplotlib.lines.Line2D at 0x7f1748b86400>]"
            ]
          },
          "execution_count": 27,
          "metadata": {
            "tags": []
          },
          "output_type": "execute_result"
        },
        {
          "data": {
            "image/png": "[encoded data removed]",
            "text/plain": [
              "<Figure size 432x288 with 1 Axes>"
            ]
          },
          "metadata": {
            "tags": []
          },
          "output_type": "display_data"
        }
      ],
      "source": [
        "plt.plot(range(epochs), hist.history['acc'])\n",
        "plt.plot(range(epochs), hist.history['loss'])"
      ]
    },
    {
      "cell_type": "code",
      "execution_count": null,
      "metadata": {
        "colab": {
          "base_uri": "https://localhost:8080/",
          "height": 187
        },
        "id": "8gu88IAMX-KM",
        "outputId": "74f5accd-8264-4f94-a16c-614f18b1c6e5"
      },
      "outputs": [
        {
          "name": "stdout",
          "output_type": "stream",
          "text": [
            "              precision    recall  f1-score   support\n",
            "\n",
            "           0       0.80      0.71      0.75       102\n",
            "           1       0.63      0.68      0.65       115\n",
            "           2       0.56      0.60      0.58        40\n",
            "\n",
            "    accuracy                           0.68       257\n",
            "   macro avg       0.66      0.66      0.66       257\n",
            "weighted avg       0.69      0.68      0.68       257\n",
            "\n"
          ]
        }
      ],
      "source": [
        "from sklearn.metrics import classification_report\n",
        "predY = model.predict(testX)\n",
        "predY = [np.argmax(y) for y in predY]\n",
        "Y = [np.argmax(y) for y in testY]\n",
        "print(classification_report(Y, predY))"
      ]
    },
    {
      "cell_type": "code",
      "execution_count": null,
      "metadata": {
        "id": "hZqQQxbmhEjD"
      },
      "outputs": [],
      "source": [
        "intdata = model_int.predict(testX)\n",
        "colormap = {0:\"red\", 1:\"blue\", 2:\"green\"}\n",
        "c = [colormap[i] for i in Y]"
      ]
    },
    {
      "cell_type": "code",
      "execution_count": null,
      "metadata": {
        "colab": {
          "base_uri": "https://localhost:8080/",
          "height": 34
        },
        "id": "v9_QrO9sgiPU",
        "outputId": "fc365c39-7a89-446c-df7c-2f1ab596e8b5"
      },
      "outputs": [
        {
          "data": {
            "text/plain": [
              "(257,)"
            ]
          },
          "execution_count": 15,
          "metadata": {
            "tags": []
          },
          "output_type": "execute_result"
        }
      ],
      "source": [
        "intdata[:,0].shape"
      ]
    },
    {
      "cell_type": "code",
      "execution_count": null,
      "metadata": {
        "colab": {
          "base_uri": "https://localhost:8080/",
          "height": 579
        },
        "id": "gGjLQ3vwgwjv",
        "outputId": "db427352-6ea3-4a16-8bc8-60373d1952b4"
      },
      "outputs": [
        {
          "ename": "ValueError",
          "evalue": "ignored",
          "output_type": "error",
          "traceback": [
            "\u001b[0;31m---------------------------------------------------------------------------\u001b[0m",
            "\u001b[0;31mValueError\u001b[0m                                Traceback (most recent call last)",
            "\u001b[0;32m<ipython-input-20-2c5a1de34e90>\u001b[0m in \u001b[0;36m<module>\u001b[0;34m()\u001b[0m\n\u001b[0;32m----> 1\u001b[0;31m \u001b[0mplt\u001b[0m\u001b[0;34m.\u001b[0m\u001b[0mscatter\u001b[0m\u001b[0;34m(\u001b[0m\u001b[0mintdata\u001b[0m\u001b[0;34m.\u001b[0m\u001b[0margmax\u001b[0m\u001b[0;34m,\u001b[0m \u001b[0mtestY\u001b[0m\u001b[0;34m,\u001b[0m \u001b[0mc\u001b[0m\u001b[0;34m=\u001b[0m\u001b[0mc\u001b[0m\u001b[0;34m)\u001b[0m\u001b[0;34m\u001b[0m\u001b[0;34m\u001b[0m\u001b[0m\n\u001b[0m",
            "\u001b[0;32m/usr/local/lib/python3.6/dist-packages/matplotlib/pyplot.py\u001b[0m in \u001b[0;36mscatter\u001b[0;34m(x, y, s, c, marker, cmap, norm, vmin, vmax, alpha, linewidths, verts, edgecolors, data, **kwargs)\u001b[0m\n\u001b[1;32m   2860\u001b[0m         \u001b[0mvmin\u001b[0m\u001b[0;34m=\u001b[0m\u001b[0mvmin\u001b[0m\u001b[0;34m,\u001b[0m \u001b[0mvmax\u001b[0m\u001b[0;34m=\u001b[0m\u001b[0mvmax\u001b[0m\u001b[0;34m,\u001b[0m \u001b[0malpha\u001b[0m\u001b[0;34m=\u001b[0m\u001b[0malpha\u001b[0m\u001b[0;34m,\u001b[0m \u001b[0mlinewidths\u001b[0m\u001b[0;34m=\u001b[0m\u001b[0mlinewidths\u001b[0m\u001b[0;34m,\u001b[0m\u001b[0;34m\u001b[0m\u001b[0;34m\u001b[0m\u001b[0m\n\u001b[1;32m   2861\u001b[0m         verts=verts, edgecolors=edgecolors, **({\"data\": data} if data\n\u001b[0;32m-> 2862\u001b[0;31m         is not None else {}), **kwargs)\n\u001b[0m\u001b[1;32m   2863\u001b[0m     \u001b[0msci\u001b[0m\u001b[0;34m(\u001b[0m\u001b[0m__ret\u001b[0m\u001b[0;34m)\u001b[0m\u001b[0;34m\u001b[0m\u001b[0;34m\u001b[0m\u001b[0m\n\u001b[1;32m   2864\u001b[0m     \u001b[0;32mreturn\u001b[0m \u001b[0m__ret\u001b[0m\u001b[0;34m\u001b[0m\u001b[0;34m\u001b[0m\u001b[0m\n",
            "\u001b[0;32m/usr/local/lib/python3.6/dist-packages/matplotlib/__init__.py\u001b[0m in \u001b[0;36minner\u001b[0;34m(ax, data, *args, **kwargs)\u001b[0m\n\u001b[1;32m   1808\u001b[0m                         \u001b[0;34m\"the Matplotlib list!)\"\u001b[0m \u001b[0;34m%\u001b[0m \u001b[0;34m(\u001b[0m\u001b[0mlabel_namer\u001b[0m\u001b[0;34m,\u001b[0m \u001b[0mfunc\u001b[0m\u001b[0;34m.\u001b[0m\u001b[0m__name__\u001b[0m\u001b[0;34m)\u001b[0m\u001b[0;34m,\u001b[0m\u001b[0;34m\u001b[0m\u001b[0;34m\u001b[0m\u001b[0m\n\u001b[1;32m   1809\u001b[0m                         RuntimeWarning, stacklevel=2)\n\u001b[0;32m-> 1810\u001b[0;31m             \u001b[0;32mreturn\u001b[0m \u001b[0mfunc\u001b[0m\u001b[0;34m(\u001b[0m\u001b[0max\u001b[0m\u001b[0;34m,\u001b[0m \u001b[0;34m*\u001b[0m\u001b[0margs\u001b[0m\u001b[0;34m,\u001b[0m \u001b[0;34m**\u001b[0m\u001b[0mkwargs\u001b[0m\u001b[0;34m)\u001b[0m\u001b[0;34m\u001b[0m\u001b[0;34m\u001b[0m\u001b[0m\n\u001b[0m\u001b[1;32m   1811\u001b[0m \u001b[0;34m\u001b[0m\u001b[0m\n\u001b[1;32m   1812\u001b[0m         inner.__doc__ = _add_data_doc(inner.__doc__,\n",
            "\u001b[0;32m/usr/local/lib/python3.6/dist-packages/matplotlib/axes/_axes.py\u001b[0m in \u001b[0;36mscatter\u001b[0;34m(self, x, y, s, c, marker, cmap, norm, vmin, vmax, alpha, linewidths, verts, edgecolors, **kwargs)\u001b[0m\n\u001b[1;32m   4180\u001b[0m         \u001b[0my\u001b[0m \u001b[0;34m=\u001b[0m \u001b[0mnp\u001b[0m\u001b[0;34m.\u001b[0m\u001b[0mma\u001b[0m\u001b[0;34m.\u001b[0m\u001b[0mravel\u001b[0m\u001b[0;34m(\u001b[0m\u001b[0my\u001b[0m\u001b[0;34m)\u001b[0m\u001b[0;34m\u001b[0m\u001b[0;34m\u001b[0m\u001b[0m\n\u001b[1;32m   4181\u001b[0m         \u001b[0;32mif\u001b[0m \u001b[0mx\u001b[0m\u001b[0;34m.\u001b[0m\u001b[0msize\u001b[0m \u001b[0;34m!=\u001b[0m \u001b[0my\u001b[0m\u001b[0;34m.\u001b[0m\u001b[0msize\u001b[0m\u001b[0;34m:\u001b[0m\u001b[0;34m\u001b[0m\u001b[0;34m\u001b[0m\u001b[0m\n\u001b[0;32m-> 4182\u001b[0;31m             \u001b[0;32mraise\u001b[0m \u001b[0mValueError\u001b[0m\u001b[0;34m(\u001b[0m\u001b[0;34m\"x and y must be the same size\"\u001b[0m\u001b[0;34m)\u001b[0m\u001b[0;34m\u001b[0m\u001b[0;34m\u001b[0m\u001b[0m\n\u001b[0m\u001b[1;32m   4183\u001b[0m \u001b[0;34m\u001b[0m\u001b[0m\n\u001b[1;32m   4184\u001b[0m         \u001b[0;32mif\u001b[0m \u001b[0ms\u001b[0m \u001b[0;32mis\u001b[0m \u001b[0;32mNone\u001b[0m\u001b[0;34m:\u001b[0m\u001b[0;34m\u001b[0m\u001b[0;34m\u001b[0m\u001b[0m\n",
            "\u001b[0;31mValueError\u001b[0m: x and y must be the same size"
          ]
        },
        {
          "data": {
            "image/png": "[encoded data removed]",
            "text/plain": [
              "<Figure size 432x288 with 1 Axes>"
            ]
          },
          "metadata": {
            "tags": []
          },
          "output_type": "display_data"
        }
      ],
      "source": [
        "plt.scatter(intdata.argmax, testY, c=c)"
      ]
    },
    {
      "cell_type": "code",
      "execution_count": null,
      "metadata": {
        "id": "OVZGl0EairPr"
      },
      "outputs": [],
      "source": []
    }
  ],
  "metadata": {
    "accelerator": "GPU",
    "colab": {
      "collapsed_sections": [],
      "name": "chemo.ipynb",
      "provenance": []
    },
    "kernelspec": {
      "display_name": "Python 3.8.8 64-bit ('SpringBoardRoot': conda)",
      "name": "python388jvsc74a57bd034254dbed0a11299c26a60998b10651945ddc6175a352e28bb4ea7f4f8edb40d"
    },
    "language_info": {
      "codemirror_mode": {
        "name": "ipython",
        "version": 3
      },
      "file_extension": ".py",
      "mimetype": "text/x-python",
      "name": "python",
      "nbconvert_exporter": "python",
      "pygments_lexer": "ipython3",
      "version": "3.8.8"
    }
  },
  "nbformat": 4,
  "nbformat_minor": 0
}