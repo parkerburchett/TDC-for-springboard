{
 "cells": [
  {
   "cell_type": "markdown",
   "metadata": {},
   "source": [
    "### I will put methods and examples to convert a SMILE string into an image. \r\n",
    "\r\n",
    "1. need to permute, rotate (and possibly add noise) to the image. "
   ]
  },
  {
   "cell_type": "code",
   "execution_count": null,
   "metadata": {},
   "outputs": [],
   "source": []
  }
 ],
 "metadata": {
  "kernelspec": {
   "display_name": "Python 3.9.5 64-bit ('PythonSoftwareFoundation.Python.3.9_qbz5n2kfra8p0')",
   "name": "python395jvsc74a57bd06ab5f7648a89f42974c0c1e36d3c754ae0c2fd7945abcd7e01d994088e651183"
  },
  "language_info": {
   "name": "python",
   "version": ""
  },
  "metadata": {
   "interpreter": {
    "hash": "6ab5f7648a89f42974c0c1e36d3c754ae0c2fd7945abcd7e01d994088e651183"
   }
  },
  "orig_nbformat": 2
 },
 "nbformat": 4,
 "nbformat_minor": 2
}